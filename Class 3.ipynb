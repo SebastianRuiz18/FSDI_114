{
 "cells": [
  {
   "cell_type": "code",
   "execution_count": null,
   "id": "80dc1053",
   "metadata": {},
   "outputs": [],
   "source": [
    "# define function balance_check with parameters: string s\n",
    "# if the length of s is not even:\n",
    "#      return false\n",
    "# mystack = Stack()\n",
    "# opening_brackets = [\"(\", \"[\", \"{\"]\n",
    "# valid_pairs = [\n",
    "#        [\"[\", \"]\"],\n",
    "#        [\"{\", \"}\"],\n",
    "#        [\"(\", \")\"]]\n",
    "# for each bracket in s:\n",
    "#  check if bracket is in opening_brackets:\n",
    "#       if it is:\n",
    "#            something should happen here\n",
    "#            append it to mystack\n",
    "#       if it isnt:\n",
    "#            something else should happen here\n",
    "#            pop last element from mystack and store it in temp\n",
    "#            if [temp, bracket] is not in valid_pairs:\n",
    "#                return False\n",
    "# if mystack is empty:\n",
    "#     return True\n",
    "# otherwise:\n",
    "#     return False"
   ]
  },
  {
   "cell_type": "code",
   "execution_count": null,
   "id": "cacba67d",
   "metadata": {},
   "outputs": [],
   "source": [
    "# \"[[[[]]]]\"\n",
    "# L0: mystack = [\"[\"]\n",
    "# L1: mystack = [\"[\", \"[\"]\n",
    "# L2: mystack = [\"[\", \"[\", \"[\"]\n",
    "# L3: mystack = [\"[\", \"[\", \"[\", \"[\"]"
   ]
  },
  {
   "cell_type": "code",
   "execution_count": null,
   "id": "4f1bd65d",
   "metadata": {},
   "outputs": [],
   "source": [
    "class Stack:\n",
    "    def __init__(self):\n",
    "        self.items = []\n",
    "        \n",
    "    def push(self,item):\n",
    "        self.items.append(item)\n",
    "    \n",
    "    def pop(self):\n",
    "        return self.items.pop()\n",
    "    \n",
    "def balance_check(s):\n",
    "    if (len(s) % 2) != 0:\n",
    "        return False\n",
    "    # mystack = Stack()\n",
    "    mystack = []\n",
    "    opening = set(\"([{\")\n",
    "    valid_matches = set([\n",
    "        (\"[\", \"]\"),\n",
    "        (\"{\", \"}\"),\n",
    "        (\"(\", \")\")\n",
    "    ])\n",
    "    for paren in s:\n",
    "        if paren in opening:\n",
    "            mystack.append(paren)\n",
    "        else:\n",
    "            if stack == []:\n",
    "                return False\n",
    "            else:\n",
    "                pair = (stack.pop(), paren)\n",
    "                if pair not in valid_matches:\n",
    "                    return False\n",
    "    return stack = []"
   ]
  },
  {
   "cell_type": "code",
   "execution_count": null,
   "id": "cf77231e",
   "metadata": {},
   "outputs": [],
   "source": [
    "class Node:\n",
    "    def __init__(self, data):\n",
    "        self.data = data\n",
    "        self.next = None\n",
    "        "
   ]
  },
  {
   "cell_type": "code",
   "execution_count": 6,
   "id": "7116f0a8",
   "metadata": {},
   "outputs": [
    {
     "name": "stdout",
     "output_type": "stream",
     "text": [
      "0\n",
      "1\n",
      "2\n",
      "3\n"
     ]
    }
   ],
   "source": [
    "class Node:\n",
    "    def __init__(self, data):\n",
    "        self.data = data\n",
    "        self.next = None\n",
    "head = Node(0)\n",
    "\n",
    "new_node1 = Node(1)\n",
    "new_node2 = Node(2)\n",
    "new_node3 = Node(3)\n",
    "\n",
    "head.next = new_node1\n",
    "new_node1.next = new_node2\n",
    "new_node2.next = new_node3\n",
    "\n",
    "current = head\n",
    "while current:\n",
    "    print(current.data)\n",
    "    current = current.next"
   ]
  },
  {
   "cell_type": "code",
   "execution_count": 7,
   "id": "03d4f0c1",
   "metadata": {},
   "outputs": [],
   "source": [
    "class Node:\n",
    "    def __init__(self, data):\n",
    "        self.data = data\n",
    "        self.next = None\n",
    "        \n",
    "class SignlyLinkedList:\n",
    "    def __init__(self):\n",
    "        self.head = None\n",
    "        \n",
    "    # we can add data...\n",
    "    # ...at the beginning of our list (append)\n",
    "    # ...at the end of the list (prepend)\n",
    "    # ...anywhere between the head and the tail of our list\n",
    "    def append(self, item):\n",
    "        if not self.head:\n",
    "            self.head = Node(item)\n",
    "        else:\n",
    "            current = head\n",
    "            while current.next:\n",
    "                current = current.next\n",
    "            current.next = Node(item)\n",
    "    \n",
    "    def insert(self, index, item):\n",
    "        #what happens if insert is called on a newly created instance of this class?\n",
    "        #what happens when you do insert(0,\"something\")?\n",
    "        #what happens if you call insert with an index that exdeeds the\n",
    "        #length of our list?\n",
    "        pass"
   ]
  },
  {
   "cell_type": "code",
   "execution_count": null,
   "id": "b050e4a8",
   "metadata": {},
   "outputs": [],
   "source": []
  }
 ],
 "metadata": {
  "kernelspec": {
   "display_name": "Python 3 (ipykernel)",
   "language": "python",
   "name": "python3"
  },
  "language_info": {
   "codemirror_mode": {
    "name": "ipython",
    "version": 3
   },
   "file_extension": ".py",
   "mimetype": "text/x-python",
   "name": "python",
   "nbconvert_exporter": "python",
   "pygments_lexer": "ipython3",
   "version": "3.8.10"
  }
 },
 "nbformat": 4,
 "nbformat_minor": 5
}
