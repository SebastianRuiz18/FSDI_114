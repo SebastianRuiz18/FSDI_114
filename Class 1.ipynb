{
 "cells": [
  {
   "cell_type": "markdown",
   "id": "146ad813",
   "metadata": {},
   "source": [
    "# Problem 1\n",
    "\n",
    "### Given 2 strings (string_a and string_b) let's check whether or not they are anagrams of each other given the following criteria:\n",
    "\n",
    "> Two strings are only anagrams of each other if all conditions below are met:\n",
    "> * They must be exactly the same length.\n",
    "> * They must use exactly the same characters (no more, no less).\n",
    "\n",
    "```\n",
    "Example(s): cars and scar, heart and earth, etc.\n",
    "```"
   ]
  },
  {
   "cell_type": "code",
   "execution_count": 6,
   "id": "9a8e37cb",
   "metadata": {},
   "outputs": [
    {
     "data": {
      "text/plain": [
       "True"
      ]
     },
     "execution_count": 6,
     "metadata": {},
     "output_type": "execute_result"
    }
   ],
   "source": [
    "def is_anagram(string_a,string_b):\n",
    "    stillOK = True\n",
    "    if len(string_a) != len(string_b):\n",
    "        stillOK = False\n",
    "\n",
    "    alist = list(string_b)\n",
    "    position_a = 0\n",
    "\n",
    "    while position_a < len(string_a) and stillOK:\n",
    "        position_b = 0\n",
    "        found = False\n",
    "        while position_b < len(alist) and not found:\n",
    "            if string_a[position_a] == alist[position_b]:\n",
    "                found = True\n",
    "            else:\n",
    "                position_b = position_b + 1\n",
    "\n",
    "        if found:\n",
    "            alist[position_b] = None\n",
    "        else:\n",
    "            stillOK = False\n",
    "\n",
    "        position_a = position_a + 1\n",
    "\n",
    "    return stillOK\n",
    "\n",
    "is_anagram(\"heart\", \"earth\")"
   ]
  },
  {
   "cell_type": "code",
   "execution_count": null,
   "id": "c4f2144e",
   "metadata": {},
   "outputs": [],
   "source": []
  }
 ],
 "metadata": {
  "kernelspec": {
   "display_name": "Python 3 (ipykernel)",
   "language": "python",
   "name": "python3"
  },
  "language_info": {
   "codemirror_mode": {
    "name": "ipython",
    "version": 3
   },
   "file_extension": ".py",
   "mimetype": "text/x-python",
   "name": "python",
   "nbconvert_exporter": "python",
   "pygments_lexer": "ipython3",
   "version": "3.8.10"
  }
 },
 "nbformat": 4,
 "nbformat_minor": 5
}
